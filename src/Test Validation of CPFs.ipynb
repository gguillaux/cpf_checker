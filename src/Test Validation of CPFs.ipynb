{
 "cells": [
  {
   "cell_type": "code",
   "execution_count": 74,
   "metadata": {},
   "outputs": [],
   "source": [
    "class CPF:\n",
    "    def __init__(self, cpf_number):\n",
    "        self.cpf = cpf_number\n",
    "        self.__clean = self.__clean_cpf()\n",
    "        self.__proper_size = self.__has_valid_length()\n",
    "        \n",
    "        self.__divide()\n",
    "        self.is_valid = self.__is_valid()\n",
    "        \n",
    "\n",
    "    def __clean_cpf(self):\n",
    "        '''Remove non digits chars from String'''\n",
    "        return ''.join(l for l in self.cpf if l.isdigit())\n",
    "    \n",
    "    def __has_valid_length(self):\n",
    "        '''Check if cleaned String composed just by digits has 11 chars'''\n",
    "        if len(self.__clean) == 11:\n",
    "            return True\n",
    "        else:\n",
    "            return False\n",
    "\n",
    "    def __divide(self):\n",
    "        '''Define auxiliar atributes if String has 11 digits'''\n",
    "        self.body = \"\"\n",
    "        self.validation_digits = \"\"\n",
    "        self.first_digit = \"\"\n",
    "        self.second_digit = \"\"\n",
    "        if self.__proper_size:\n",
    "            self.body = self.__clean[:9]\n",
    "            self.validation_digits = self.__clean[9:]\n",
    "            self.first_digit = int(self.validation_digits[0])\n",
    "            self.second_digit = int(self.validation_digits[1])\n",
    "    \n",
    "    def __remainder(self, values_sum):\n",
    "        '''Returns the remainder of the division by 11. If remainder == 10 returns 0'''\n",
    "        remainder = values_sum % 11\n",
    "        if remainder == 10:\n",
    "            return 0\n",
    "        else:\n",
    "            return remainder\n",
    "\n",
    "    def __is_valid(self):\n",
    "        '''Returns boolean stating if CPF is valid or not'''\n",
    "        self.sum1 = 0\n",
    "        self.sum2 = 0\n",
    "        for i, j in enumerate(self.body):\n",
    "            self.sum1 += (int(j) * (i+1)) # sum of product of cpf digits and its integer\n",
    "            self.sum2 += (int(j) * (9 - i)) # sum of product of difits and its reverse integer\n",
    "        if (self.__remainder(self.sum1) == self.first_digit) and (self.__remainder(self.sum2) == self.second_digit):\n",
    "            return True\n",
    "        else:\n",
    "            return False            "
   ]
  },
  {
   "cell_type": "code",
   "execution_count": 76,
   "metadata": {},
   "outputs": [
    {
     "name": "stdout",
     "output_type": "stream",
     "text": [
      "1 - \t CPF 071.511.043-83 \t valid = True\n",
      "2 - \t CPF 064.761.343-37 \t valid = True\n",
      "3 - \t CPF 076.444.133-75 \t valid = True\n",
      "4 - \t CPF 067.138.533-07 \t valid = False\n",
      "5 - \t CPF 066.073.713-29 \t valid = True\n",
      "6 - \t CPF 069.036.233-11 \t valid = False\n",
      "7 - \t CPF 074.630.693-76 \t valid = False\n",
      "8 - \t CPF 615.321.983-70 \t valid = True\n",
      "9 - \t CPF 065.697.293-90 \t valid = True\n",
      "10 - \t CPF 080.359.493-40 \t valid = False\n",
      "11 - \t CPF 039.906.193-22 \t valid = True\n",
      "12 - \t CPF 069.033.993-30 \t valid = True\n",
      "13 - \t CPF 080.609.843-06 \t valid = True\n",
      "14 - \t CPF 076.755.803-03 \t valid = True\n",
      "15 - \t CPF 070.495.193-28 \t valid = False\n",
      "16 - \t CPF 076.412.623-76 \t valid = True\n",
      "17 - \t CPF 079.044.663-41 \t valid = True\n",
      "18 - \t CPF 657.512.723-31 \t valid = False\n",
      "19 - \t CPF 065.601.883-61 \t valid = True\n",
      "20 - \t CPF 615.096.693-37 \t valid = True\n",
      "21 - \t CPF 021.546.422-25 \t valid = True\n",
      "22 - \t CPF 054.428.463-17 \t valid = True\n",
      "23 - \t CPF 615.317.933-98 \t valid = True\n",
      "24 - \t CPF 055.755.513-26 \t valid = True\n",
      "25 - \t CPF 059.275.763-38 \t valid = True\n",
      "26 - \t CPF 934.931.003-10 \t valid = True\n",
      "27 - \t CPF 063.834.873-02 \t valid = True\n",
      "28 - \t CPF 063.337.043-97 \t valid = False\n",
      "29 - \t CPF 069.760.863-82 \t valid = True\n",
      "30 - \t CPF 034.909.673-21 \t valid = True\n",
      "31 - \t CPF 069.948.973-38 \t valid = True\n",
      "32 - \t CPF 005.390.753-10 \t valid = True\n",
      "33 - \t CPF 178.889.543-59 \t valid = False\n",
      "34 - \t CPF 026.439.163-28 \t valid = True\n",
      "35 - \t CPF 043.186.493-42 \t valid = True\n",
      "36 - \t CPF 040.766.573-06 \t valid = True\n",
      "37 - \t CPF 059.774.003-81 \t valid = True\n",
      "38 - \t CPF 612.655.823-51 \t valid = True\n",
      "39 - \t CPF 071.447.163-10 \t valid = True\n",
      "40 - \t CPF 048.829.833-46 \t valid = True\n",
      "41 - \t CPF 052.025.603-46 \t valid = True\n",
      "42 - \t CPF 072.493.483-96 \t valid = True\n",
      "43 - \t CPF 462.493.848-80 \t valid = True\n",
      "44 - \t CPF 075.923.423-08 \t valid = False\n",
      "45 - \t CPF 072.618.793-39 \t valid = True\n",
      "46 - \t CPF 072.428.693-40 \t valid = True\n",
      "47 - \t CPF 067.897.603-18 \t valid = True\n",
      "48 - \t CPF 064.349.623-80 \t valid = True\n",
      "49 - \t CPF 066.589.583-60 \t valid = True\n",
      "50 - \t CPF 077.565.093-64 \t valid = False\n",
      "51 - \t CPF 072.912.313-88 \t valid = True\n",
      "52 - \t CPF 063.168.113-22 \t valid = True\n",
      "53 - \t CPF 021.109.903-17 \t valid = True\n",
      "54 - \t CPF 067.360.233-86 \t valid = True\n",
      "55 - \t CPF 061.916.443-37 \t valid = True\n",
      "56 - \t CPF 624.225.023-34 \t valid = True\n",
      "57 - \t CPF 079.849.073-07 \t valid = False\n",
      "58 - \t CPF 615.336.353-90 \t valid = True\n",
      "59 - \t CPF 072.736.373-51 \t valid = True\n",
      "60 - \t CPF 046.416.623-39 \t valid = True\n",
      "61 - \t CPF 081.830.843-54 \t valid = True\n",
      "62 - \t CPF 615.149.363-05 \t valid = False\n",
      "63 - \t CPF 067.199.833-18 \t valid = True\n",
      "64 - \t CPF 071.989.853-60 \t valid = True\n",
      "65 - \t CPF 080.598.873-43 \t valid = True\n",
      "66 - \t CPF 068.356.473-02 \t valid = True\n",
      "67 - \t CPF 068.254.883-92 \t valid = True\n",
      "68 - \t CPF 072.340.223-09 \t valid = False\n",
      "69 - \t CPF 013.816.073-22 \t valid = True\n",
      "70 - \t CPF 075.823.323-00 \t valid = False\n",
      "71 - \t CPF 626.482.923-49 \t valid = True\n",
      "72 - \t CPF 056.220.923-96 \t valid = True\n",
      "73 - \t CPF 070.420.553-06 \t valid = False\n",
      "74 - \t CPF 055.003.123-59 \t valid = True\n",
      "75 - \t CPF 067.231.393-64 \t valid = True\n",
      "76 - \t CPF 070.854.443-63 \t valid = True\n",
      "77 - \t CPF 071.965.223-54 \t valid = True\n",
      "78 - \t CPF 068.660.513-63 \t valid = True\n",
      "79 - \t CPF 063.507.213-06 \t valid = True\n",
      "80 - \t CPF 025.083.353-04 \t valid = True\n"
     ]
    }
   ],
   "source": [
    "if __name__ == \"__main__\":\n",
    "    cpf_file_path = r'../test/cpfs.txt' # file with cpfs to be tested\n",
    "    \n",
    "    with open(cpf_file_path, 'r') as f:\n",
    "        for i, l in enumerate(f.readlines()): # iterates over each CPF checking and each if it's valid\n",
    "            cpf = CPF(l)\n",
    "            print('{} - \\t CPF {} \\t valid = {}'.format(i + 1, cpf.cpf.strip(), cpf.is_valid))"
   ]
  },
  {
   "cell_type": "code",
   "execution_count": 68,
   "metadata": {},
   "outputs": [],
   "source": [
    "a = CPF(\"615.321.983-70\")\n",
    "b = CPF(\"378.962.058-07\")"
   ]
  },
  {
   "cell_type": "code",
   "execution_count": 66,
   "metadata": {},
   "outputs": [
    {
     "data": {
      "text/plain": [
       "10"
      ]
     },
     "execution_count": 66,
     "metadata": {},
     "output_type": "execute_result"
    }
   ],
   "source": [
    "a.sum2 % 11"
   ]
  },
  {
   "cell_type": "code",
   "execution_count": 71,
   "metadata": {},
   "outputs": [
    {
     "data": {
      "text/plain": [
       "7"
      ]
     },
     "execution_count": 71,
     "metadata": {},
     "output_type": "execute_result"
    }
   ],
   "source": [
    "b.sum2 % 11"
   ]
  },
  {
   "cell_type": "code",
   "execution_count": null,
   "metadata": {},
   "outputs": [],
   "source": []
  },
  {
   "cell_type": "code",
   "execution_count": 42,
   "metadata": {},
   "outputs": [
    {
     "name": "stdout",
     "output_type": "stream",
     "text": [
      "0 6\n",
      "1 1\n",
      "2 5\n",
      "3 3\n",
      "4 2\n",
      "5 1\n",
      "6 9\n",
      "7 8\n",
      "8 3\n"
     ]
    }
   ],
   "source": [
    "for i, j in enumerate(a.body): print(i, j)"
   ]
  },
  {
   "cell_type": "code",
   "execution_count": 47,
   "metadata": {},
   "outputs": [
    {
     "data": {
      "text/plain": [
       "False"
      ]
     },
     "execution_count": 47,
     "metadata": {},
     "output_type": "execute_result"
    }
   ],
   "source": []
  },
  {
   "cell_type": "code",
   "execution_count": null,
   "metadata": {},
   "outputs": [],
   "source": []
  }
 ],
 "metadata": {
  "kernelspec": {
   "display_name": "Python 3",
   "language": "python",
   "name": "python3"
  },
  "language_info": {
   "codemirror_mode": {
    "name": "ipython",
    "version": 3
   },
   "file_extension": ".py",
   "mimetype": "text/x-python",
   "name": "python",
   "nbconvert_exporter": "python",
   "pygments_lexer": "ipython3",
   "version": "3.7.0"
  }
 },
 "nbformat": 4,
 "nbformat_minor": 2
}
